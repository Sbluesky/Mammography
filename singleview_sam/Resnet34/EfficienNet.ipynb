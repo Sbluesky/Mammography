{
 "metadata": {
  "language_info": {
   "codemirror_mode": {
    "name": "ipython",
    "version": 3
   },
   "file_extension": ".py",
   "mimetype": "text/x-python",
   "name": "python",
   "nbconvert_exporter": "python",
   "pygments_lexer": "ipython3",
   "version": "3.9.2-final"
  },
  "orig_nbformat": 2,
  "kernelspec": {
   "name": "python3",
   "display_name": "Python 3",
   "language": "python"
  }
 },
 "nbformat": 4,
 "nbformat_minor": 2,
 "cells": [
  {
   "cell_type": "code",
   "execution_count": 1,
   "metadata": {},
   "outputs": [
    {
     "output_type": "stream",
     "name": "stdout",
     "text": [
      "Collecting efficientnet_pytorch\n",
      "  Using cached efficientnet_pytorch-0.7.0.tar.gz (20 kB)\n",
      "Collecting torch\n",
      "  Downloading torch-1.8.1-cp39-cp39-manylinux1_x86_64.whl (804.1 MB)\n",
      "\u001b[K     |████████████████████████████████| 804.1 MB 4.8 kB/s \n",
      "\u001b[?25hCollecting typing-extensions\n",
      "  Using cached typing_extensions-3.7.4.3-py3-none-any.whl (22 kB)\n",
      "Collecting numpy\n",
      "  Downloading numpy-1.20.2-cp39-cp39-manylinux2010_x86_64.whl (15.4 MB)\n",
      "\u001b[K     |████████████████████████████████| 15.4 MB 1.6 MB/s \n",
      "\u001b[?25hBuilding wheels for collected packages: efficientnet-pytorch\n",
      "  Building wheel for efficientnet-pytorch (setup.py) ... \u001b[?25ldone\n",
      "\u001b[?25h  Created wheel for efficientnet-pytorch: filename=efficientnet_pytorch-0.7.0-py3-none-any.whl size=16033 sha256=8f552b697b00cf92348e87c7a2df6aff29f7b0c654311b8710f82797774bfd73\n",
      "  Stored in directory: /home/single1/.cache/pip/wheels/67/f8/ec/2d69988659bca8a9dc5c516dc06ef68977116541c54cb3a005\n",
      "Successfully built efficientnet-pytorch\n",
      "Installing collected packages: typing-extensions, numpy, torch, efficientnet-pytorch\n",
      "Successfully installed efficientnet-pytorch-0.7.0 numpy-1.20.2 torch-1.8.1 typing-extensions-3.7.4.3\n"
     ]
    }
   ],
   "source": [
    "#install Efficientnet\n",
    "!pip install efficientnet_pytorch"
   ]
  },
  {
   "cell_type": "code",
   "execution_count": null,
   "metadata": {},
   "outputs": [],
   "source": []
  }
 ]
}