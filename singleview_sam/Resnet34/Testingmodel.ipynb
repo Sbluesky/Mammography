{
 "metadata": {
  "language_info": {
   "codemirror_mode": {
    "name": "ipython",
    "version": 3
   },
   "file_extension": ".py",
   "mimetype": "text/x-python",
   "name": "python",
   "nbconvert_exporter": "python",
   "pygments_lexer": "ipython3",
   "version": "3.9.2-final"
  },
  "orig_nbformat": 2,
  "kernelspec": {
   "name": "python3",
   "display_name": "Python 3",
   "language": "python"
  }
 },
 "nbformat": 4,
 "nbformat_minor": 2,
 "cells": [
  {
   "cell_type": "code",
   "execution_count": 1,
   "metadata": {},
   "outputs": [],
   "source": [
    "import torch\n",
    "import torch.nn as nn\n",
    "from torchvision import transforms\n",
    "import torch.nn.functional as F\n",
    "from PIL import Image\n",
    "import numpy as np"
   ]
  },
  {
   "cell_type": "code",
   "execution_count": 2,
   "metadata": {},
   "outputs": [],
   "source": [
    "labels = [\"birad-0\",\"birad-1\",\"birad-2\",\"birad-3\",\"birad-4\",\"birad-5\", \"density-a\",\"density-b\",\"density-c\",\"density-d\"]"
   ]
  },
  {
   "cell_type": "code",
   "execution_count": 3,
   "metadata": {},
   "outputs": [],
   "source": [
    "class MultiClassifier(nn.Module):\n",
    "    def __init__(self):\n",
    "        super(MultiClassifier, self).__init__()\n",
    "        self.ConvLayer1 = nn.Sequential(\n",
    "            nn.Conv2d(3, 64, 3), # 3, 256, 256\n",
    "            nn.MaxPool2d(2), # op: 16, 127, 127\n",
    "            nn.ReLU(), # op: 64, 127, 127\n",
    "        )\n",
    "        self.ConvLayer2 = nn.Sequential(\n",
    "            nn.Conv2d(64, 128, 3), # 64, 127, 127   \n",
    "            nn.MaxPool2d(2), #op: 128, 63, 63\n",
    "            nn.ReLU() # op: 128, 63, 63\n",
    "        )\n",
    "        self.ConvLayer3 = nn.Sequential(\n",
    "            nn.Conv2d(128, 256, 3), # 128, 63, 63\n",
    "            nn.MaxPool2d(2), #op: 256, 30, 30\n",
    "            nn.ReLU() #op: 256, 30, 30\n",
    "        )\n",
    "        self.ConvLayer4 = nn.Sequential(\n",
    "            nn.Conv2d(256, 512, 3), # 256, 30, 30\n",
    "            nn.MaxPool2d(2), #op: 512, 14, 14\n",
    "            nn.ReLU(), #op: 512, 14, 14\n",
    "            nn.Dropout(0.2)\n",
    "        )\n",
    "        self.Linear1 = nn.Linear(512 * 14 * 14, 1024)\n",
    "        self.Linear2 = nn.Linear(1024, 256)\n",
    "        self.Linear3 = nn.Linear(256, 10)\n",
    "        \n",
    "        \n",
    "    def forward(self, x):\n",
    "        x = self.ConvLayer1(x)\n",
    "        x = self.ConvLayer2(x)\n",
    "        x = self.ConvLayer3(x)\n",
    "        x = self.ConvLayer4(x)\n",
    "        x = x.view(x.size(0), -1)\n",
    "        x = self.Linear1(x)\n",
    "        x = self.Linear2(x)\n",
    "        x = self.Linear3(x)\n",
    "        return F.sigmoid(x)\n",
    "\n"
   ]
  },
  {
   "cell_type": "code",
   "execution_count": 4,
   "metadata": {},
   "outputs": [],
   "source": [
    "model = torch.load(\"/home/single1/BACKUP/SamHUyen/mammo/sam/singleview_sam/model/model_epoch.pt\", map_location=torch.device('cpu'))\n",
    "model = model.eval()"
   ]
  },
  {
   "cell_type": "code",
   "execution_count": 5,
   "metadata": {},
   "outputs": [],
   "source": [
    "def get_tensor(img):\n",
    "    tfms = transforms.Compose([\n",
    "        transforms.Resize((256, 256)),\n",
    "        transforms.ToTensor()\n",
    "    ])\n",
    "    return tfms(Image.open(img).convert('RGB')).unsqueeze(0)"
   ]
  },
  {
   "cell_type": "code",
   "execution_count": 6,
   "metadata": {},
   "outputs": [],
   "source": [
    "def predict(img, label_lst, model):\n",
    "    tnsr = get_tensor(img)\n",
    "    op = model(tnsr)\n",
    "    op_b = torch.round(op)\n",
    "    \n",
    "    op_b_np = torch.Tensor.cpu(op_b).detach().numpy()\n",
    "    \n",
    "    preds = np.where(op_b_np == 1)[1]\n",
    "    \n",
    "    sigs_op = torch.Tensor.cpu(torch.round((op)*100)).detach().numpy()[0]\n",
    "    \n",
    "    o_p = np.argsort(torch.Tensor.cpu(op).detach().numpy())[0][::-1]\n",
    "    \n",
    "#     print(\"Argsort: {}\".format(o_p))\n",
    "#     print(\"Softmax: {}\".format(sigs_op))\n",
    "    \n",
    "    \n",
    "    #print(op_b_np)\n",
    "    #print(preds)\n",
    "    \"\"\"\n",
    "    label = []\n",
    "    for i in preds:\n",
    "        label.append(label_lst[i])\n",
    "        \n",
    "    arg_s = {}\n",
    "    for i in o_p:\n",
    "#         arg_s.append(label_lst[int(i)])\n",
    "        arg_s[label_lst[int(i)]] = sigs_op[int(i)]\n",
    "    \"\"\" \n",
    "    return op_b_np#label, list(arg_s.items())[:10]"
   ]
  },
  {
   "cell_type": "code",
   "execution_count": 14,
   "metadata": {},
   "outputs": [
    {
     "output_type": "stream",
     "name": "stdout",
     "text": [
      "[[0. 1. 0. 0. 0. 0. 0. 0. 1. 0.]]\n",
      "[1 8]\n",
      "/home/single1/.local/lib/python3.8/site-packages/torch/nn/functional.py:1639: UserWarning: nn.functional.sigmoid is deprecated. Use torch.sigmoid instead.\n",
      "  warnings.warn(\"nn.functional.sigmoid is deprecated. Use torch.sigmoid instead.\")\n"
     ]
    },
    {
     "output_type": "execute_result",
     "data": {
      "text/plain": [
       "(['birad-1', 'density-c'],\n",
       " [('density-c', 97.0),\n",
       "  ('birad-1', 68.0),\n",
       "  ('birad-2', 27.0),\n",
       "  ('birad-3', 3.0),\n",
       "  ('birad-4', 2.0),\n",
       "  ('density-b', 2.0),\n",
       "  ('density-d', 1.0),\n",
       "  ('birad-5', 0.0),\n",
       "  ('birad-0', 0.0),\n",
       "  ('density-a', 0.0)])"
      ]
     },
     "metadata": {},
     "execution_count": 14
    }
   ],
   "source": [
    "predict('/home/single1/BACKUP/SamHUyen/multi_view_mammo_classification/images/1.2.410.200010.1064739.6393.1124429.1139296.1139296/1.3.12.2.1107.5.12.7.5054.30000020051200135573400000007.png', labels, model)"
   ]
  },
  {
   "cell_type": "code",
   "execution_count": 7,
   "metadata": {},
   "outputs": [],
   "source": [
    "import pandas as pd\n",
    "labels_df = pd.read_csv(\"/home/single1/BACKUP/SamHUyen/mammo/huyen/csv_singleview.csv\")\n",
    "labels_df[\"path\"] = \"/home/single1/BACKUP/SamHUyen/multi_view_mammo_classification/images/\"+ labels_df[\"study_id\"] + \"/\"  + labels_df[\"image_id\"] + \".png\" \n",
    "list_holdout = labels_df[labels_df[\"fold\"]==\"holdout\"][\"path\"].values\n"
   ]
  },
  {
   "cell_type": "code",
   "execution_count": 8,
   "metadata": {},
   "outputs": [
    {
     "output_type": "stream",
     "name": "stderr",
     "text": [
      "  0%|          | 0/2900 [00:00<?, ?it/s]/home/single1/.local/lib/python3.8/site-packages/torch/nn/functional.py:1639: UserWarning: nn.functional.sigmoid is deprecated. Use torch.sigmoid instead.\n",
      "  warnings.warn(\"nn.functional.sigmoid is deprecated. Use torch.sigmoid instead.\")\n",
      "100%|██████████| 2900/2900 [05:36<00:00,  8.63it/s]\n"
     ]
    }
   ],
   "source": [
    "from tqdm import tqdm\n",
    "label_holdout = []\n",
    "for img in tqdm(list_holdout):\n",
    "    label_holdout.append(predict(img, labels, model))"
   ]
  },
  {
   "cell_type": "code",
   "execution_count": 9,
   "metadata": {},
   "outputs": [
    {
     "output_type": "execute_result",
     "data": {
      "text/plain": [
       "2900"
      ]
     },
     "metadata": {},
     "execution_count": 9
    }
   ],
   "source": [
    "len(label_holdout)"
   ]
  },
  {
   "cell_type": "code",
   "execution_count": 10,
   "metadata": {},
   "outputs": [
    {
     "output_type": "execute_result",
     "data": {
      "text/plain": [
       "[array([[0., 1., 0., 0., 0., 0., 0., 0., 1., 0.]], dtype=float32),\n",
       " array([[0., 1., 0., 0., 0., 0., 0., 0., 1., 0.]], dtype=float32),\n",
       " array([[0., 1., 0., 0., 0., 0., 0., 0., 1., 0.]], dtype=float32)]"
      ]
     },
     "metadata": {},
     "execution_count": 10
    }
   ],
   "source": [
    "label_holdout[:3]"
   ]
  },
  {
   "cell_type": "code",
   "execution_count": 22,
   "metadata": {},
   "outputs": [
    {
     "output_type": "execute_result",
     "data": {
      "text/plain": [
       "   patient_id                                           study_id  \\\n",
       "0  2005012602  1.2.410.200010.1064800.1782.1119751.1134541.11...   \n",
       "1  2005012602  1.2.410.200010.1064800.1782.1119751.1134541.11...   \n",
       "2  2005012602  1.2.410.200010.1064800.1782.1119751.1134541.11...   \n",
       "3  2005012602  1.2.410.200010.1064800.1782.1119751.1134541.11...   \n",
       "4  1907032728   1.2.410.200010.1064926.5385.626127.635602.635602   \n",
       "\n",
       "                                           series_id  \\\n",
       "0  1.3.12.2.1107.5.12.7.5054.30000020050900111600...   \n",
       "1  1.3.12.2.1107.5.12.7.5054.30000020050900111600...   \n",
       "2  1.3.12.2.1107.5.12.7.5054.30000020050900111600...   \n",
       "3  1.3.12.2.1107.5.12.7.5054.30000020050900111600...   \n",
       "4  1.3.12.2.1107.5.12.7.5054.30000019071600261965...   \n",
       "\n",
       "                                            image_id  image_height  \\\n",
       "0  1.3.12.2.1107.5.12.7.5054.30000020050900111600...          3518   \n",
       "1  1.3.12.2.1107.5.12.7.5054.30000020050900111600...          3518   \n",
       "2  1.3.12.2.1107.5.12.7.5054.30000020050900111600...          3518   \n",
       "3  1.3.12.2.1107.5.12.7.5054.30000020050900111600...          3518   \n",
       "4  1.3.12.2.1107.5.12.7.5054.30000019071600261965...          3518   \n",
       "\n",
       "   image_width bbox  blabel bsession_id     gbirad   gdensity gscope  \\\n",
       "0         2800  NaN  No Box         NaN  BI-RADS 1  DENSITY-C    NaN   \n",
       "1         2800  NaN  No Box         NaN  BI-RADS 1  DENSITY-C    NaN   \n",
       "2         2800  NaN  No Box         NaN  BI-RADS 1  DENSITY-C  image   \n",
       "3         2800  NaN  No Box         NaN  BI-RADS 1  DENSITY-C  image   \n",
       "4         2800  NaN  No Box         NaN  BI-RADS 1  DENSITY-C    NaN   \n",
       "\n",
       "  glaterality gview_position gsession_id                      multilabel  \\\n",
       "0           R             CC         NaN  [0, 1, 0, 0, 0, 0, 0, 0, 1, 0]   \n",
       "1           L             CC         NaN  [0, 1, 0, 0, 0, 0, 0, 0, 1, 0]   \n",
       "2           R            MLO    BSMINHBM  [0, 1, 0, 0, 0, 0, 0, 0, 1, 0]   \n",
       "3           L            MLO    BSMINHBM  [0, 1, 0, 0, 0, 0, 0, 0, 1, 0]   \n",
       "4           R             CC         NaN  [0, 1, 0, 0, 0, 0, 0, 0, 1, 0]   \n",
       "\n",
       "    fold                                               path  \\\n",
       "0  train  /home/single1/BACKUP/SamHUyen/multi_view_mammo...   \n",
       "1  train  /home/single1/BACKUP/SamHUyen/multi_view_mammo...   \n",
       "2  train  /home/single1/BACKUP/SamHUyen/multi_view_mammo...   \n",
       "3  train  /home/single1/BACKUP/SamHUyen/multi_view_mammo...   \n",
       "4  train  /home/single1/BACKUP/SamHUyen/multi_view_mammo...   \n",
       "\n",
       "                                             predict  \n",
       "0  [[0.0, 1.0, 0.0, 0.0, 0.0, 0.0, 0.0, 0.0, 1.0,...  \n",
       "1  [[0.0, 1.0, 0.0, 0.0, 0.0, 0.0, 0.0, 0.0, 1.0,...  \n",
       "2  [[0.0, 1.0, 0.0, 0.0, 0.0, 0.0, 0.0, 0.0, 1.0,...  \n",
       "3  [[0.0, 1.0, 0.0, 0.0, 0.0, 0.0, 0.0, 0.0, 1.0,...  \n",
       "4  [[0.0, 1.0, 0.0, 0.0, 0.0, 0.0, 0.0, 0.0, 1.0,...  "
      ],
      "text/html": "<div>\n<style scoped>\n    .dataframe tbody tr th:only-of-type {\n        vertical-align: middle;\n    }\n\n    .dataframe tbody tr th {\n        vertical-align: top;\n    }\n\n    .dataframe thead th {\n        text-align: right;\n    }\n</style>\n<table border=\"1\" class=\"dataframe\">\n  <thead>\n    <tr style=\"text-align: right;\">\n      <th></th>\n      <th>patient_id</th>\n      <th>study_id</th>\n      <th>series_id</th>\n      <th>image_id</th>\n      <th>image_height</th>\n      <th>image_width</th>\n      <th>bbox</th>\n      <th>blabel</th>\n      <th>bsession_id</th>\n      <th>gbirad</th>\n      <th>gdensity</th>\n      <th>gscope</th>\n      <th>glaterality</th>\n      <th>gview_position</th>\n      <th>gsession_id</th>\n      <th>multilabel</th>\n      <th>fold</th>\n      <th>path</th>\n      <th>predict</th>\n    </tr>\n  </thead>\n  <tbody>\n    <tr>\n      <th>0</th>\n      <td>2005012602</td>\n      <td>1.2.410.200010.1064800.1782.1119751.1134541.11...</td>\n      <td>1.3.12.2.1107.5.12.7.5054.30000020050900111600...</td>\n      <td>1.3.12.2.1107.5.12.7.5054.30000020050900111600...</td>\n      <td>3518</td>\n      <td>2800</td>\n      <td>NaN</td>\n      <td>No Box</td>\n      <td>NaN</td>\n      <td>BI-RADS 1</td>\n      <td>DENSITY-C</td>\n      <td>NaN</td>\n      <td>R</td>\n      <td>CC</td>\n      <td>NaN</td>\n      <td>[0, 1, 0, 0, 0, 0, 0, 0, 1, 0]</td>\n      <td>train</td>\n      <td>/home/single1/BACKUP/SamHUyen/multi_view_mammo...</td>\n      <td>[[0.0, 1.0, 0.0, 0.0, 0.0, 0.0, 0.0, 0.0, 1.0,...</td>\n    </tr>\n    <tr>\n      <th>1</th>\n      <td>2005012602</td>\n      <td>1.2.410.200010.1064800.1782.1119751.1134541.11...</td>\n      <td>1.3.12.2.1107.5.12.7.5054.30000020050900111600...</td>\n      <td>1.3.12.2.1107.5.12.7.5054.30000020050900111600...</td>\n      <td>3518</td>\n      <td>2800</td>\n      <td>NaN</td>\n      <td>No Box</td>\n      <td>NaN</td>\n      <td>BI-RADS 1</td>\n      <td>DENSITY-C</td>\n      <td>NaN</td>\n      <td>L</td>\n      <td>CC</td>\n      <td>NaN</td>\n      <td>[0, 1, 0, 0, 0, 0, 0, 0, 1, 0]</td>\n      <td>train</td>\n      <td>/home/single1/BACKUP/SamHUyen/multi_view_mammo...</td>\n      <td>[[0.0, 1.0, 0.0, 0.0, 0.0, 0.0, 0.0, 0.0, 1.0,...</td>\n    </tr>\n    <tr>\n      <th>2</th>\n      <td>2005012602</td>\n      <td>1.2.410.200010.1064800.1782.1119751.1134541.11...</td>\n      <td>1.3.12.2.1107.5.12.7.5054.30000020050900111600...</td>\n      <td>1.3.12.2.1107.5.12.7.5054.30000020050900111600...</td>\n      <td>3518</td>\n      <td>2800</td>\n      <td>NaN</td>\n      <td>No Box</td>\n      <td>NaN</td>\n      <td>BI-RADS 1</td>\n      <td>DENSITY-C</td>\n      <td>image</td>\n      <td>R</td>\n      <td>MLO</td>\n      <td>BSMINHBM</td>\n      <td>[0, 1, 0, 0, 0, 0, 0, 0, 1, 0]</td>\n      <td>train</td>\n      <td>/home/single1/BACKUP/SamHUyen/multi_view_mammo...</td>\n      <td>[[0.0, 1.0, 0.0, 0.0, 0.0, 0.0, 0.0, 0.0, 1.0,...</td>\n    </tr>\n    <tr>\n      <th>3</th>\n      <td>2005012602</td>\n      <td>1.2.410.200010.1064800.1782.1119751.1134541.11...</td>\n      <td>1.3.12.2.1107.5.12.7.5054.30000020050900111600...</td>\n      <td>1.3.12.2.1107.5.12.7.5054.30000020050900111600...</td>\n      <td>3518</td>\n      <td>2800</td>\n      <td>NaN</td>\n      <td>No Box</td>\n      <td>NaN</td>\n      <td>BI-RADS 1</td>\n      <td>DENSITY-C</td>\n      <td>image</td>\n      <td>L</td>\n      <td>MLO</td>\n      <td>BSMINHBM</td>\n      <td>[0, 1, 0, 0, 0, 0, 0, 0, 1, 0]</td>\n      <td>train</td>\n      <td>/home/single1/BACKUP/SamHUyen/multi_view_mammo...</td>\n      <td>[[0.0, 1.0, 0.0, 0.0, 0.0, 0.0, 0.0, 0.0, 1.0,...</td>\n    </tr>\n    <tr>\n      <th>4</th>\n      <td>1907032728</td>\n      <td>1.2.410.200010.1064926.5385.626127.635602.635602</td>\n      <td>1.3.12.2.1107.5.12.7.5054.30000019071600261965...</td>\n      <td>1.3.12.2.1107.5.12.7.5054.30000019071600261965...</td>\n      <td>3518</td>\n      <td>2800</td>\n      <td>NaN</td>\n      <td>No Box</td>\n      <td>NaN</td>\n      <td>BI-RADS 1</td>\n      <td>DENSITY-C</td>\n      <td>NaN</td>\n      <td>R</td>\n      <td>CC</td>\n      <td>NaN</td>\n      <td>[0, 1, 0, 0, 0, 0, 0, 0, 1, 0]</td>\n      <td>train</td>\n      <td>/home/single1/BACKUP/SamHUyen/multi_view_mammo...</td>\n      <td>[[0.0, 1.0, 0.0, 0.0, 0.0, 0.0, 0.0, 0.0, 1.0,...</td>\n    </tr>\n  </tbody>\n</table>\n</div>"
     },
     "metadata": {},
     "execution_count": 22
    }
   ],
   "source": [
    "labels_df[\"predict\"] = label_holdout\n",
    "labels_df.head(5)"
   ]
  },
  {
   "cell_type": "code",
   "execution_count": 24,
   "metadata": {},
   "outputs": [],
   "source": [
    "labels_df[labels_df[\"fold\"]==\"holdout\"].to_csv(\"/home/single1/BACKUP/SamHUyen/mammo/sam/singleview_sam/holdoutprdict_model_fullimg.csv\")"
   ]
  },
  {
   "cell_type": "code",
   "execution_count": 87,
   "metadata": {},
   "outputs": [
    {
     "output_type": "execute_result",
     "data": {
      "text/plain": [
       "array(['[0, 0, 1, 0, 0, 0, 0, 0, 1, 0]', '[0, 1, 0, 0, 0, 0, 0, 0, 1, 0]',\n",
       "       '[0, 0, 0, 1, 0, 0, 0, 0, 1, 0]', '[0, 0, 0, 0, 1, 0, 0, 0, 1, 0]',\n",
       "       '[0, 0, 1, 0, 0, 0, 0, 1, 0, 0]', '[0, 1, 0, 0, 0, 0, 0, 1, 0, 0]',\n",
       "       '[0, 1, 0, 0, 0, 0, 0, 0, 0, 1]', '[0, 0, 1, 0, 0, 0, 0, 0, 0, 1]',\n",
       "       '[1, 0, 0, 0, 0, 0, 0, 0, 1, 0]', '[0, 1, 0, 0, 0, 0, 1, 0, 0, 0]',\n",
       "       '[0, 0, 0, 0, 0, 1, 0, 0, 1, 0]', '[0, 0, 0, 1, 0, 0, 0, 0, 0, 1]',\n",
       "       '[0, 0, 0, 0, 1, 0, 0, 1, 0, 0]', '[0, 0, 0, 1, 0, 0, 0, 1, 0, 0]',\n",
       "       '[0, 0, 1, 0, 0, 0, 1, 0, 0, 0]', '[0, 0, 0, 0, 1, 0, 0, 0, 0, 1]',\n",
       "       '[1, 0, 0, 0, 0, 0, 0, 0, 0, 1]'], dtype=object)"
      ]
     },
     "metadata": {},
     "execution_count": 87
    }
   ],
   "source": [
    "labels_df[labels_df[\"fold\"]==\"holdout\"][\"multilabel\"].unique()"
   ]
  },
  {
   "cell_type": "code",
   "execution_count": 14,
   "metadata": {
    "tags": []
   },
   "outputs": [
    {
     "output_type": "stream",
     "name": "stdout",
     "text": [
      "2900\n"
     ]
    }
   ],
   "source": [
    "list_truevalue_holduot = []\n",
    "for i in labels_df[labels_df[\"fold\"]==\"holdout\"][\"multilabel\"].values:\n",
    "    #print(i)\n",
    "    temp = i.strip('][').split(',')\n",
    "    #print(temp)\n",
    "    temp = np.array(temp).astype('int32').tolist()\n",
    "    list_truevalue_holduot.append(temp)\n",
    "print(len(list_truevalue_holduot))"
   ]
  },
  {
   "cell_type": "code",
   "execution_count": 17,
   "metadata": {},
   "outputs": [],
   "source": [
    "list_predict_holdout = []\n",
    "for i in label_holdout:#labels_df[labels_df[\"fold\"]==\"holdout\"][\"predict\"].values:\n",
    "    list_predict_holdout.append(i.astype('int32')[0].tolist())"
   ]
  },
  {
   "cell_type": "code",
   "execution_count": 16,
   "metadata": {},
   "outputs": [
    {
     "output_type": "execute_result",
     "data": {
      "text/plain": [
       "[[0, 0, 1, 0, 0, 0, 0, 0, 1, 0],\n",
       " [0, 0, 1, 0, 0, 0, 0, 0, 1, 0],\n",
       " [0, 0, 1, 0, 0, 0, 0, 0, 1, 0]]"
      ]
     },
     "metadata": {},
     "execution_count": 16
    }
   ],
   "source": [
    "list_truevalue_holduot[:3]"
   ]
  },
  {
   "cell_type": "code",
   "execution_count": 75,
   "metadata": {},
   "outputs": [],
   "source": [
    "def check_0 (Tu, Mau):\n",
    "    result = 0\n",
    "    if Mau !=0:\n",
    "        result = Tu/Mau\n",
    "    return result\n",
    "\n",
    "\n",
    "def f1score_mullabel(labels, y_true, y_pred):\n",
    "    TP = 0\n",
    "    FP = 0\n",
    "    FN = 0\n",
    "    TN = 0\n",
    "    for ind in range(len(y_true)):\n",
    "        if y_pred[ind] == labels:\n",
    "            if  y_true[ind] == y_pred[ind]:\n",
    "                TP = TP + 1 #predict positive and true value positive\n",
    "            else:\n",
    "                FP = FP + 1 #predict positive but true value negative\n",
    "        else:\n",
    "            if y_true[ind] == labels:\n",
    "                FN = FN + 1 #predict negative but true value positive\n",
    "            else:\n",
    "                TN = TN + 1 #predict negative and true value negative\n",
    "    if (TP+ FP) != 0 :\n",
    "        precision = TP / (TP+ FP)\n",
    "    else:\n",
    "        precision = 0\n",
    "    recall = TP/(TP+FN)\n",
    "    f1_score= (2*precision*recall)/(precision+recall)\n",
    "    return TP, FP, FN, TN, f1_score"
   ]
  },
  {
   "cell_type": "code",
   "execution_count": 11,
   "metadata": {},
   "outputs": [],
   "source": [
    "def acc_score(y_true, y_pred):\n",
    "    TP = 0\n",
    "    for ind in range(len(y_true)):\n",
    "        if y_pred[ind] == y_true[ind]:\n",
    "            TP += 1\n",
    "    return TP/2900"
   ]
  },
  {
   "cell_type": "code",
   "execution_count": 18,
   "metadata": {},
   "outputs": [
    {
     "output_type": "execute_result",
     "data": {
      "text/plain": [
       "0.5734482758620689"
      ]
     },
     "metadata": {},
     "execution_count": 18
    }
   ],
   "source": [
    "acc_score(list_truevalue_holduot, list_predict_holdout)"
   ]
  },
  {
   "cell_type": "code",
   "execution_count": 97,
   "metadata": {},
   "outputs": [
    {
     "output_type": "stream",
     "name": "stdout",
     "text": [
      "True Positive:  4\nFalse Positive:  1\nFalse Negative:  462\nTrue Negative:  2433\nF1-score:  0.016985138004246284\n"
     ]
    }
   ],
   "source": [
    "TP, FP, FN, TN, f1_score = f1score_mullabel([0, 0, 1, 0, 0, 0, 0, 0, 1, 0],list_truevalue_holduot, list_predict_holdout )\n",
    "print(\"True Positive: \", TP)\n",
    "print(\"False Positive: \", FP)\n",
    "print(\"False Negative: \", FN)\n",
    "print(\"True Negative: \", TN)\n",
    "print(\"F1-score: \", f1_score)\n",
    "\n"
   ]
  },
  {
   "cell_type": "code",
   "execution_count": 95,
   "metadata": {},
   "outputs": [
    {
     "output_type": "execute_result",
     "data": {
      "text/plain": [
       "[[0, 0, 1, 0, 0, 0, 0, 0, 1, 0],\n",
       " [0, 0, 1, 0, 0, 0, 0, 0, 1, 0],\n",
       " [0, 0, 1, 0, 0, 0, 0, 0, 1, 0],\n",
       " [0, 0, 1, 0, 0, 0, 0, 0, 1, 0],\n",
       " [0, 1, 0, 0, 0, 0, 0, 0, 1, 0]]"
      ]
     },
     "metadata": {},
     "execution_count": 95
    }
   ],
   "source": [
    "list_truevalue_holduot[:5]"
   ]
  },
  {
   "cell_type": "code",
   "execution_count": 91,
   "metadata": {},
   "outputs": [
    {
     "output_type": "execute_result",
     "data": {
      "text/plain": [
       "[[0, 1, 0, 0, 0, 0, 0, 0, 1, 0],\n",
       " [0, 1, 0, 0, 0, 0, 0, 0, 1, 0],\n",
       " [0, 1, 0, 0, 0, 0, 0, 0, 1, 0],\n",
       " [0, 1, 0, 0, 0, 0, 0, 0, 1, 0],\n",
       " [0, 1, 0, 0, 0, 0, 0, 0, 1, 0]]"
      ]
     },
     "metadata": {},
     "execution_count": 91
    }
   ],
   "source": [
    "list_predict_holdout[:5]"
   ]
  },
  {
   "cell_type": "code",
   "execution_count": 3,
   "metadata": {},
   "outputs": [
    {
     "output_type": "execute_result",
     "data": {
      "text/plain": [
       "tensor(6)"
      ]
     },
     "metadata": {},
     "execution_count": 3
    }
   ],
   "source": [
    "import torch\n",
    "torch.sum(torch.tensor([0,1,0,0,0,1]) == torch.tensor([0,1,0,0,0,1]))"
   ]
  },
  {
   "cell_type": "code",
   "execution_count": null,
   "metadata": {},
   "outputs": [],
   "source": []
  }
 ]
}